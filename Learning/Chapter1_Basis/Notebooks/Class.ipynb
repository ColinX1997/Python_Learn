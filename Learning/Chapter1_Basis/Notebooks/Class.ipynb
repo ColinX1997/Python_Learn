{
 "cells": [
  {
   "cell_type": "markdown",
   "metadata": {},
   "source": [
    "global and nonlocal"
   ]
  },
  {
   "cell_type": "code",
   "execution_count": 23,
   "metadata": {},
   "outputs": [
    {
     "name": "stdout",
     "output_type": "stream",
     "text": [
      "After local assignment: test spam\n",
      "After nonlocal assignment: nonlocal spam\n",
      "After global assignment: nonlocal spam\n",
      "In global scope: global spam\n"
     ]
    }
   ],
   "source": [
    "def scope_test():\n",
    "    def do_local():\n",
    "        spam = \"local spam\"\n",
    "\n",
    "    def do_nonlocal():\n",
    "        nonlocal spam\n",
    "        spam = \"nonlocal spam\"\n",
    "\n",
    "    def do_global():\n",
    "        global spam\n",
    "        spam = \"global spam\"\n",
    "\n",
    "    spam = \"test spam\"\n",
    "    do_local()\n",
    "    print(\"After local assignment:\", spam) #could not affecet the outter function - scope_test's assignment for spam\n",
    "    do_nonlocal()\n",
    "    print(\"After nonlocal assignment:\", spam) # nonlocal keyword could change the assignment\n",
    "    do_global()\n",
    "    print(\"After global assignment:\", spam) # global could not change the module variable, which is changed by non-local keyword\n",
    "\n",
    "scope_test()\n",
    "print(\"In global scope:\", spam) # but in gloanl scope, the spam value will be bound with global value"
   ]
  },
  {
   "cell_type": "markdown",
   "metadata": {},
   "source": [
    "Class tests"
   ]
  },
  {
   "cell_type": "code",
   "execution_count": 24,
   "metadata": {},
   "outputs": [
    {
     "name": "stdout",
     "output_type": "stream",
     "text": [
      "1\n"
     ]
    }
   ],
   "source": [
    "if True:\n",
    "    class test:\n",
    "        a = 1\n",
    "\n",
    "t = test()\n",
    "\n",
    "print(t.a)"
   ]
  },
  {
   "cell_type": "code",
   "execution_count": 28,
   "metadata": {},
   "outputs": [
    {
     "name": "stdout",
     "output_type": "stream",
     "text": [
      "new class test win\n",
      "[1, 2, 3, 10]\n",
      "[2, 5, 8, 11, 14, 17]\n",
      "[1, 2, 3, 10]\n"
     ]
    },
    {
     "ename": "AttributeError",
     "evalue": "'myClass' object has no attribute 'data'",
     "output_type": "error",
     "traceback": [
      "\u001b[1;31m---------------------------------------------------------------------------\u001b[0m",
      "\u001b[1;31mAttributeError\u001b[0m                            Traceback (most recent call last)",
      "Cell \u001b[1;32mIn[28], line 23\u001b[0m\n\u001b[0;32m     20\u001b[0m \u001b[38;5;28mprint\u001b[39m(x\u001b[38;5;241m.\u001b[39mdata) \u001b[38;5;66;03m# the above del action only deleted the new list\u001b[39;00m\n\u001b[0;32m     22\u001b[0m \u001b[38;5;28;01mdel\u001b[39;00m myClass\u001b[38;5;241m.\u001b[39mdata\n\u001b[1;32m---> 23\u001b[0m \u001b[38;5;28mprint\u001b[39m(\u001b[43mx\u001b[49m\u001b[38;5;241;43m.\u001b[39;49m\u001b[43mdata\u001b[49m) \u001b[38;5;66;03m# this will fail, bacuse the whole class attribute was deleted\u001b[39;00m\n",
      "\u001b[1;31mAttributeError\u001b[0m: 'myClass' object has no attribute 'data'"
     ]
    }
   ],
   "source": [
    "class myClass:\n",
    "    def __init__(self, a, b) -> None:\n",
    "        print('new class', a ,b)\n",
    "    \n",
    "    data=[1,2,3]\n",
    "    \n",
    "    def fun(self):\n",
    "        self.data.append(10)\n",
    "        \n",
    "x= myClass('test', 'win')\n",
    "\n",
    "x.fun()\n",
    "\n",
    "print(x.data)\n",
    "\n",
    "x.data = [x for x in range(2,20,3)] # this will assign a new list to data, the original data was not changed\n",
    "print(x.data)\n",
    "\n",
    "del x.data\n",
    "print(x.data) # the above del action only deleted the new list\n",
    "\n",
    "del myClass.data\n",
    "print(x.data) # this will fail, bacuse the whole class attribute was deleted"
   ]
  },
  {
   "cell_type": "code",
   "execution_count": 26,
   "metadata": {},
   "outputs": [
    {
     "name": "stdout",
     "output_type": "stream",
     "text": [
      "[1, 2, 3, 10]\n"
     ]
    }
   ],
   "source": [
    "xf = x.fun # to bind a finction object\n",
    "\n",
    "if True:\n",
    "    xf\n",
    "    print(x.data)"
   ]
  },
  {
   "cell_type": "markdown",
   "metadata": {},
   "source": [
    "Function defined outside of a class"
   ]
  },
  {
   "cell_type": "code",
   "execution_count": 31,
   "metadata": {},
   "outputs": [
    {
     "ename": "TypeError",
     "evalue": "f1() takes 0 positional arguments but 1 was given",
     "output_type": "error",
     "traceback": [
      "\u001b[1;31m---------------------------------------------------------------------------\u001b[0m",
      "\u001b[1;31mTypeError\u001b[0m                                 Traceback (most recent call last)",
      "Cell \u001b[1;32mIn[31], line 8\u001b[0m\n\u001b[0;32m      5\u001b[0m     f2 \u001b[38;5;241m=\u001b[39m f1\n\u001b[0;32m      7\u001b[0m o \u001b[38;5;241m=\u001b[39m outClass()\n\u001b[1;32m----> 8\u001b[0m \u001b[43mo\u001b[49m\u001b[38;5;241;43m.\u001b[39;49m\u001b[43mf2\u001b[49m\u001b[43m(\u001b[49m\u001b[43m)\u001b[49m\n",
      "\u001b[1;31mTypeError\u001b[0m: f1() takes 0 positional arguments but 1 was given"
     ]
    }
   ],
   "source": [
    "def f1():\n",
    "    print('outside function')\n",
    "\n",
    "class outClass:\n",
    "    f2 = f1\n",
    "    \n",
    "o = outClass()\n",
    "o.f2()"
   ]
  },
  {
   "cell_type": "markdown",
   "metadata": {},
   "source": [
    "Why above function fail? Because when a method object is called, the special thing is that the instance object is passed as the first argument of the function, so we need a param for f1"
   ]
  },
  {
   "cell_type": "code",
   "execution_count": 34,
   "metadata": {},
   "outputs": [
    {
     "name": "stdout",
     "output_type": "stream",
     "text": [
      "outside function\n"
     ]
    }
   ],
   "source": [
    "def f1(self):\n",
    "    print('outside function')\n",
    "\n",
    "class outClass:\n",
    "    f2 = f1\n",
    "    \n",
    "o = outClass()\n",
    "o.f2()"
   ]
  },
  {
   "cell_type": "markdown",
   "metadata": {},
   "source": [
    "Derived class"
   ]
  },
  {
   "cell_type": "code",
   "execution_count": 37,
   "metadata": {},
   "outputs": [
    {
     "name": "stdout",
     "output_type": "stream",
     "text": [
      "outside function\n",
      "f3\n",
      "outside function\n",
      "f4\n",
      "1\n"
     ]
    }
   ],
   "source": [
    "class derivedOutClass(outClass):\n",
    "    def f3(self):\n",
    "        print('f3')\n",
    "        \n",
    "d1 = derivedOutClass();\n",
    "d1.f2()\n",
    "d1.f3()\n",
    "\n",
    "class outClass2:\n",
    "    def f4(self):\n",
    "        print('f4')\n",
    "        \n",
    "        \n",
    "class derivedOutClass1(outClass,outClass2):\n",
    "    a = 1\n",
    "    \n",
    "d2 = derivedOutClass1()\n",
    "d2.f2()\n",
    "d2.f4()\n",
    "print(d2.a)"
   ]
  },
  {
   "cell_type": "markdown",
   "metadata": {},
   "source": [
    "Dataclass"
   ]
  },
  {
   "cell_type": "code",
   "execution_count": 39,
   "metadata": {},
   "outputs": [
    {
     "name": "stdout",
     "output_type": "stream",
     "text": [
      "2024-05-10 13:45:44.974007 26 Joe\n"
     ]
    }
   ],
   "source": [
    "from dataclasses import dataclass\n",
    "from datetime import datetime\n",
    "\n",
    "@dataclass\n",
    "class employee:\n",
    "    date:datetime\n",
    "    age:int\n",
    "    name:str\n",
    "    \n",
    "me = employee(datetime.now(), 26, 'Joe')\n",
    "\n",
    "print(me.date, me.age, me.name)\n"
   ]
  },
  {
   "cell_type": "markdown",
   "metadata": {},
   "source": [
    "Iterator -> next for Class"
   ]
  },
  {
   "cell_type": "code",
   "execution_count": 40,
   "metadata": {},
   "outputs": [
    {
     "name": "stdout",
     "output_type": "stream",
     "text": [
      "a\n",
      "b\n",
      "c\n"
     ]
    }
   ],
   "source": [
    "str1='abc'\n",
    "\n",
    "l1=iter(str1)\n",
    "\n",
    "print(next(l1))\n",
    "print(next(l1))\n",
    "print(next(l1))"
   ]
  },
  {
   "cell_type": "code",
   "execution_count": 45,
   "metadata": {},
   "outputs": [
    {
     "name": "stdout",
     "output_type": "stream",
     "text": [
      "d\n",
      "c\n",
      "b\n",
      "a\n"
     ]
    }
   ],
   "source": [
    "class ReverseStr:\n",
    "    def __init__(self, data) -> None:\n",
    "        self.data = data\n",
    "        self.index = len(data)\n",
    "        \n",
    "    def __iter__(self):\n",
    "        return self\n",
    "    \n",
    "    def __next__(self):\n",
    "        if self.index == 0:\n",
    "            raise StopIteration\n",
    "        self.index -= 1\n",
    "        return self.data[self.index]\n",
    "    \n",
    "rev = ReverseStr('abcd')\n",
    "iter(rev)\n",
    "for char in rev:\n",
    "    print(char)\n",
    "    \n",
    "# another way\n",
    "# my_iterator = iter(rev)\n",
    "# print(next(my_iterator))\n",
    "        "
   ]
  },
  {
   "cell_type": "markdown",
   "metadata": {},
   "source": [
    "Generator"
   ]
  },
  {
   "cell_type": "code",
   "execution_count": 13,
   "metadata": {},
   "outputs": [
    {
     "name": "stdout",
     "output_type": "stream",
     "text": [
      "h\n",
      "e\n",
      "l\n",
      "l\n",
      "o\n",
      " \n",
      "w\n",
      "o\n",
      "r\n",
      "l\n",
      "d\n"
     ]
    }
   ],
   "source": [
    "def generator(data):\n",
    "    for index in range(0,len(data)):\n",
    "        yield data[index]\n",
    "        \n",
    "for char in generator('hello world'):\n",
    "    print(char)"
   ]
  },
  {
   "cell_type": "markdown",
   "metadata": {},
   "source": [
    "Generator expressions\n",
    "\n",
    "No special yield statment, it's more like list expressions, but using () instead of []"
   ]
  },
  {
   "cell_type": "code",
   "execution_count": 14,
   "metadata": {},
   "outputs": [
    {
     "data": {
      "text/plain": [
       "36100"
      ]
     },
     "execution_count": 14,
     "metadata": {},
     "output_type": "execute_result"
    }
   ],
   "source": [
    "sum(i**3 for i in range(1,20))"
   ]
  }
 ],
 "metadata": {
  "kernelspec": {
   "display_name": "Python 3",
   "language": "python",
   "name": "python3"
  },
  "language_info": {
   "codemirror_mode": {
    "name": "ipython",
    "version": 3
   },
   "file_extension": ".py",
   "mimetype": "text/x-python",
   "name": "python",
   "nbconvert_exporter": "python",
   "pygments_lexer": "ipython3",
   "version": "3.12.3"
  }
 },
 "nbformat": 4,
 "nbformat_minor": 2
}
