{
 "cells": [
  {
   "cell_type": "code",
   "execution_count": 1,
   "metadata": {},
   "outputs": [
    {
     "name": "stderr",
     "output_type": "stream",
     "text": [
      "some warning error"
     ]
    },
    {
     "data": {
      "text/plain": [
       "18"
      ]
     },
     "execution_count": 1,
     "metadata": {},
     "output_type": "execute_result"
    }
   ],
   "source": [
    "import sys\n",
    "\n",
    "sys.stderr.write('some warning error')"
   ]
  },
  {
   "cell_type": "markdown",
   "metadata": {},
   "source": [
    "Regular expression"
   ]
  },
  {
   "cell_type": "code",
   "execution_count": 6,
   "metadata": {},
   "outputs": [
    {
     "data": {
      "text/plain": [
       "['function']"
      ]
     },
     "execution_count": 6,
     "metadata": {},
     "output_type": "execute_result"
    }
   ],
   "source": [
    "import re \n",
    "\n",
    "re.findall(r'\\bf[a-z]*','some expression used to test regular function')"
   ]
  },
  {
   "cell_type": "markdown",
   "metadata": {},
   "source": [
    "Math"
   ]
  },
  {
   "cell_type": "code",
   "execution_count": 8,
   "metadata": {},
   "outputs": [
    {
     "data": {
      "text/plain": [
       "6.141592653589793"
      ]
     },
     "execution_count": 8,
     "metadata": {},
     "output_type": "execute_result"
    }
   ],
   "source": [
    "import math\n",
    "\n",
    "math.pi + 3"
   ]
  },
  {
   "cell_type": "code",
   "execution_count": 27,
   "metadata": {},
   "outputs": [
    {
     "name": "stdout",
     "output_type": "stream",
     "text": [
      "[0, 13, 18, 21, 22]\n",
      "[1, 8]\n"
     ]
    },
    {
     "data": {
      "text/plain": [
       "14"
      ]
     },
     "execution_count": 27,
     "metadata": {},
     "output_type": "execute_result"
    }
   ],
   "source": [
    "import random\n",
    "\n",
    "random.choices(['a','b','c','d'])\n",
    "\n",
    "# simulate lotteries\n",
    "print(sorted(random.sample(range(35),5)))\n",
    "print(sorted(random.sample(range(10),2)))\n",
    "\n",
    "random.randrange(10, 20, 2)"
   ]
  },
  {
   "cell_type": "code",
   "execution_count": 34,
   "metadata": {},
   "outputs": [
    {
     "name": "stdout",
     "output_type": "stream",
     "text": [
      "[0, 9, 11, 16, 19] 11 11 42.8\n"
     ]
    }
   ],
   "source": [
    "import statistics\n",
    "\n",
    "data = random.sample(range(20),5)\n",
    "mean = statistics.mean(data)\n",
    "median = statistics.median(data)\n",
    "pvariance = statistics.pvariance(data)\n",
    "\n",
    "print(sorted(data),mean,median,pvariance)"
   ]
  },
  {
   "cell_type": "code",
   "execution_count": 11,
   "metadata": {},
   "outputs": [
    {
     "name": "stdout",
     "output_type": "stream",
     "text": [
      "2024-05-13\n",
      "Your age is: 26.5\n"
     ]
    }
   ],
   "source": [
    "#datatime\n",
    "\n",
    "from datetime import date\n",
    "\n",
    "today = date.today()\n",
    "print(today.isoformat())\n",
    "\n",
    "birthday = date(1997, 11, 9)\n",
    "\n",
    "print('Your age is:', round((today - birthday).days / 365, 1))"
   ]
  },
  {
   "cell_type": "markdown",
   "metadata": {},
   "source": [
    "Output Formatting"
   ]
  },
  {
   "cell_type": "code",
   "execution_count": 1,
   "metadata": {},
   "outputs": [
    {
     "data": {
      "text/plain": [
       "\"{'a', 'b', 'd', 'e', 'f', 'h', ...}\""
      ]
     },
     "execution_count": 1,
     "metadata": {},
     "output_type": "execute_result"
    }
   ],
   "source": [
    "import reprlib\n",
    "\n",
    "reprlib.repr(set('asdjhlkfiquebdamsdlkajspofyhaskndshbfoadu'))"
   ]
  },
  {
   "cell_type": "code",
   "execution_count": 2,
   "metadata": {},
   "outputs": [
    {
     "name": "stdout",
     "output_type": "stream",
     "text": [
      "[['a', 'b', 'v'],\n",
      " [1.2, 4, 5],\n",
      " ['s',\n",
      "  ['s1',\n",
      "   's2',\n",
      "   ['s3',\n",
      "    's4',\n",
      "    's5']]]]\n"
     ]
    }
   ],
   "source": [
    "import pprint\n",
    "\n",
    "li=[['a','b','v'],[1.2,4,5],['s',['s1','s2',['s3','s4','s5']]]]\n",
    "\n",
    "pprint.pprint(li,width=20)"
   ]
  },
  {
   "cell_type": "code",
   "execution_count": 5,
   "metadata": {},
   "outputs": [
    {
     "name": "stdout",
     "output_type": "stream",
     "text": [
      "I am writing something, but I dont know\n",
      "what need to be writen, so... It just\n",
      "something random, and will be used to\n",
      "test textwrap library~!@#$\n"
     ]
    }
   ],
   "source": [
    "import textwrap\n",
    "\n",
    "str1='I am writing something, but I dont know what need to be writen, so... It just something random, and will be used to test textwrap library~!@#$'\n",
    "\n",
    "print(textwrap.fill(str1, width=40, fix_sentence_endings=True))"
   ]
  },
  {
   "cell_type": "markdown",
   "metadata": {},
   "source": [
    "Template"
   ]
  },
  {
   "cell_type": "code",
   "execution_count": 11,
   "metadata": {},
   "outputs": [
    {
     "data": {
      "text/plain": [
       "'Joe want to do something at  ${when}'"
      ]
     },
     "execution_count": 11,
     "metadata": {},
     "output_type": "execute_result"
    }
   ],
   "source": [
    "from string import Template\n",
    "import datetime\n",
    "\n",
    "t = Template('${who} want to do something at  ${when}')\n",
    "\n",
    "t.substitute(who='Joe', when=datetime.datetime.today().isoformat())\n",
    "t.safe_substitute(who='Joe')\n"
   ]
  },
  {
   "cell_type": "code",
   "execution_count": 14,
   "metadata": {},
   "outputs": [
    {
     "name": "stdout",
     "output_type": "stream",
     "text": [
      "img_1074.jpg --> test_14May240.jpg\n",
      "img_1076.jpg --> test_14May241.jpg\n",
      "img_1077.jpg --> test_14May242.jpg\n"
     ]
    }
   ],
   "source": [
    "import time, os.path\n",
    "photofiles = ['img_1074.jpg', 'img_1076.jpg', 'img_1077.jpg']\n",
    "class BatchRename(Template):\n",
    "    delimiter = '%'\n",
    "\n",
    "fmt = input('Enter rename style (%d-date %n-seqnum %f-format):  ')\n",
    "\n",
    "t = BatchRename(fmt)\n",
    "date = time.strftime('%d%b%y')\n",
    "for i, filename in enumerate(photofiles):\n",
    "    base, ext = os.path.splitext(filename)\n",
    "    newname = t.substitute(d=date, n=i, f=ext)\n",
    "    print('{0} --> {1}'.format(filename, newname))"
   ]
  },
  {
   "cell_type": "markdown",
   "metadata": {},
   "source": [
    "Binary data storage"
   ]
  },
  {
   "cell_type": "code",
   "execution_count": 16,
   "metadata": {},
   "outputs": [
    {
     "name": "stdout",
     "output_type": "stream",
     "text": [
      "b'MES-Component/_workspace/python/Learning/temp/input.txt' 0x6053f70f 33 37\n",
      "b'MES-Component/_workspace/python/Learning/temp/output.txt' 0xecf9f644 21 21\n",
      "b'MES-Component/_workspace/python/Learning/temp/test.txt' 0x6053f70f 33 37\n"
     ]
    }
   ],
   "source": [
    "import struct\n",
    "\n",
    "with open('..\\\\..\\\\resource\\\\ziptest.zip', 'rb') as f:\n",
    "    data = f.read()\n",
    "    \n",
    "start = 0\n",
    "for i in range(3):\n",
    "    start += 14\n",
    "    fields = struct.unpack('IIIHH', data[start: start+16])\n",
    "    crc32, comp_size, uncomp_size, filenamesize, extra_size = fields\n",
    "    \n",
    "    start +=16\n",
    "    filename = data[start: start+filenamesize]\n",
    "    start += filenamesize\n",
    "    extra = data[start: start+extra_size]\n",
    "    print(filename, hex(crc32), comp_size, uncomp_size)\n",
    "    \n",
    "    start += extra_size + comp_size"
   ]
  },
  {
   "cell_type": "markdown",
   "metadata": {},
   "source": [
    "Thread basis"
   ]
  },
  {
   "cell_type": "code",
   "execution_count": 18,
   "metadata": {},
   "outputs": [
    {
     "name": "stdout",
     "output_type": "stream",
     "text": [
      "The main program will continue to run in background\n",
      "Finish backgroup zip of:  ..\\..\\temp\\input.txt\n",
      "Main program waited until backgroup was done\n"
     ]
    }
   ],
   "source": [
    "import threading, zipfile\n",
    "\n",
    "class AsyncZip(threading.Thread):\n",
    "    def __init__(self, infile, outfile):\n",
    "        threading.Thread.__init__(self)\n",
    "        self.infile= infile\n",
    "        self.outfile = outfile\n",
    "        \n",
    "    def run(self) -> None:\n",
    "        f = zipfile.ZipFile(self.outfile, 'w', zipfile.ZIP_DEFLATED)\n",
    "        f.write(self.infile)\n",
    "        f.close()\n",
    "        print('Finish backgroup zip of: ', self.infile)\n",
    "        \n",
    "background = AsyncZip('..\\\\..\\\\temp\\\\input.txt', 'thread.zip')\n",
    "background.start()\n",
    "print('The main program will continue to run in background')\n",
    "\n",
    "background.join()\n",
    "print('Main program waited until backgroup was done')"
   ]
  },
  {
   "cell_type": "markdown",
   "metadata": {},
   "source": [
    "Loggings"
   ]
  },
  {
   "cell_type": "code",
   "execution_count": 23,
   "metadata": {},
   "outputs": [
    {
     "name": "stderr",
     "output_type": "stream",
     "text": [
      "WARNING:root:Warning\n",
      "ERROR:root:error\n",
      "CRITICAL:root:critical\n"
     ]
    }
   ],
   "source": [
    "import logging\n",
    "\n",
    "logging.debug('debug')\n",
    "logging.info('info')\n",
    "logging.warning('Warning')\n",
    "logging.error('error')\n",
    "logging.critical('critical')"
   ]
  },
  {
   "cell_type": "markdown",
   "metadata": {},
   "source": [
    "Weak reference\n",
    "\n",
    "弱引用是一种特殊的引用类型，它不跟踪引用的对象，不会阻止对象被垃圾回收器回收。弱引用通常用于实现内存优化，例如避免循环引用导致的对象永远无法被垃圾回收器回收。"
   ]
  },
  {
   "cell_type": "code",
   "execution_count": 32,
   "metadata": {},
   "outputs": [
    {
     "name": "stdout",
     "output_type": "stream",
     "text": [
      "Test - a person\n",
      "<module 'weakref' from 'c:\\\\MES-Component\\\\_tools\\\\_python\\\\py\\\\Lib\\\\weakref.py'>\n",
      "Test\n"
     ]
    },
    {
     "ename": "AttributeError",
     "evalue": "'NoneType' object has no attribute 'name'",
     "output_type": "error",
     "traceback": [
      "\u001b[1;31m---------------------------------------------------------------------------\u001b[0m",
      "\u001b[1;31mAttributeError\u001b[0m                            Traceback (most recent call last)",
      "Cell \u001b[1;32mIn[32], line 21\u001b[0m\n\u001b[0;32m     18\u001b[0m \u001b[38;5;28;01mdel\u001b[39;00m p\n\u001b[0;32m     20\u001b[0m \u001b[38;5;66;03m# print(p) # will fail due to p has been deleted\u001b[39;00m\n\u001b[1;32m---> 21\u001b[0m \u001b[38;5;28mprint\u001b[39m(\u001b[43mwkref\u001b[49m\u001b[43m(\u001b[49m\u001b[43m)\u001b[49m\u001b[38;5;241;43m.\u001b[39;49m\u001b[43mname\u001b[49m)\n",
      "\u001b[1;31mAttributeError\u001b[0m: 'NoneType' object has no attribute 'name'"
     ]
    }
   ],
   "source": [
    "import weakref\n",
    "\n",
    "class Person:\n",
    "    def __init__(self,name):\n",
    "        self.name = name\n",
    "        \n",
    "    def __repr__(self):\n",
    "        return f\"{self.name} - a person\"\n",
    "    \n",
    "p = Person('Test')\n",
    "\n",
    "wkref = weakref.ref(p)\n",
    "\n",
    "print(p)\n",
    "print(weakref)\n",
    "print(wkref().name)\n",
    "\n",
    "del p\n",
    "\n",
    "# print(p) # will fail due to p has been deleted\n",
    "print(wkref().name)"
   ]
  },
  {
   "cell_type": "markdown",
   "metadata": {},
   "source": [
    "Decimal"
   ]
  },
  {
   "cell_type": "code",
   "execution_count": 35,
   "metadata": {},
   "outputs": [
    {
     "data": {
      "text/plain": [
       "0.827"
      ]
     },
     "execution_count": 35,
     "metadata": {},
     "output_type": "execute_result"
    }
   ],
   "source": [
    "from decimal import *\n",
    "\n",
    "round(Decimal(0.75) * Decimal(1.05), 2)\n",
    "round(0.34 * 2.432, 3)"
   ]
  }
 ],
 "metadata": {
  "kernelspec": {
   "display_name": "Python 3",
   "language": "python",
   "name": "python3"
  },
  "language_info": {
   "codemirror_mode": {
    "name": "ipython",
    "version": 3
   },
   "file_extension": ".py",
   "mimetype": "text/x-python",
   "name": "python",
   "nbconvert_exporter": "python",
   "pygments_lexer": "ipython3",
   "version": "3.12.3"
  }
 },
 "nbformat": 4,
 "nbformat_minor": 2
}
