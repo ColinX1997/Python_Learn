{
 "cells": [
  {
   "cell_type": "code",
   "execution_count": 1,
   "metadata": {},
   "outputs": [
    {
     "name": "stderr",
     "output_type": "stream",
     "text": [
      "some warning error"
     ]
    },
    {
     "data": {
      "text/plain": [
       "18"
      ]
     },
     "execution_count": 1,
     "metadata": {},
     "output_type": "execute_result"
    }
   ],
   "source": [
    "import sys\n",
    "\n",
    "sys.stderr.write('some warning error')"
   ]
  },
  {
   "cell_type": "markdown",
   "metadata": {},
   "source": [
    "Regular expression"
   ]
  },
  {
   "cell_type": "code",
   "execution_count": 6,
   "metadata": {},
   "outputs": [
    {
     "data": {
      "text/plain": [
       "['function']"
      ]
     },
     "execution_count": 6,
     "metadata": {},
     "output_type": "execute_result"
    }
   ],
   "source": [
    "import re \n",
    "\n",
    "re.findall(r'\\bf[a-z]*','some expression used to test regular function')"
   ]
  },
  {
   "cell_type": "markdown",
   "metadata": {},
   "source": [
    "Math"
   ]
  },
  {
   "cell_type": "code",
   "execution_count": 8,
   "metadata": {},
   "outputs": [
    {
     "data": {
      "text/plain": [
       "6.141592653589793"
      ]
     },
     "execution_count": 8,
     "metadata": {},
     "output_type": "execute_result"
    }
   ],
   "source": [
    "import math\n",
    "\n",
    "math.pi + 3"
   ]
  },
  {
   "cell_type": "code",
   "execution_count": 27,
   "metadata": {},
   "outputs": [
    {
     "name": "stdout",
     "output_type": "stream",
     "text": [
      "[0, 13, 18, 21, 22]\n",
      "[1, 8]\n"
     ]
    },
    {
     "data": {
      "text/plain": [
       "14"
      ]
     },
     "execution_count": 27,
     "metadata": {},
     "output_type": "execute_result"
    }
   ],
   "source": [
    "import random\n",
    "\n",
    "random.choices(['a','b','c','d'])\n",
    "\n",
    "# simulate lotteries\n",
    "print(sorted(random.sample(range(35),5)))\n",
    "print(sorted(random.sample(range(10),2)))\n",
    "\n",
    "random.randrange(10, 20, 2)"
   ]
  },
  {
   "cell_type": "code",
   "execution_count": 34,
   "metadata": {},
   "outputs": [
    {
     "name": "stdout",
     "output_type": "stream",
     "text": [
      "[0, 9, 11, 16, 19] 11 11 42.8\n"
     ]
    }
   ],
   "source": [
    "import statistics\n",
    "\n",
    "data = random.sample(range(20),5)\n",
    "mean = statistics.mean(data)\n",
    "median = statistics.median(data)\n",
    "pvariance = statistics.pvariance(data)\n",
    "\n",
    "print(sorted(data),mean,median,pvariance)"
   ]
  },
  {
   "cell_type": "code",
   "execution_count": 11,
   "metadata": {},
   "outputs": [
    {
     "name": "stdout",
     "output_type": "stream",
     "text": [
      "2024-05-13\n",
      "Your age is: 26.5\n"
     ]
    }
   ],
   "source": [
    "#datatime\n",
    "\n",
    "from datetime import date\n",
    "\n",
    "today = date.today()\n",
    "print(today.isoformat())\n",
    "\n",
    "birthday = date(1997, 11, 9)\n",
    "\n",
    "print('Your age is:', round((today - birthday).days / 365, 1))"
   ]
  },
  {
   "cell_type": "markdown",
   "metadata": {},
   "source": [
    "Output Formatting"
   ]
  },
  {
   "cell_type": "code",
   "execution_count": 1,
   "metadata": {},
   "outputs": [
    {
     "data": {
      "text/plain": [
       "\"{'a', 'b', 'd', 'e', 'f', 'h', ...}\""
      ]
     },
     "execution_count": 1,
     "metadata": {},
     "output_type": "execute_result"
    }
   ],
   "source": [
    "import reprlib\n",
    "\n",
    "reprlib.repr(set('asdjhlkfiquebdamsdlkajspofyhaskndshbfoadu'))"
   ]
  },
  {
   "cell_type": "code",
   "execution_count": 2,
   "metadata": {},
   "outputs": [
    {
     "name": "stdout",
     "output_type": "stream",
     "text": [
      "[['a', 'b', 'v'],\n",
      " [1.2, 4, 5],\n",
      " ['s',\n",
      "  ['s1',\n",
      "   's2',\n",
      "   ['s3',\n",
      "    's4',\n",
      "    's5']]]]\n"
     ]
    }
   ],
   "source": [
    "import pprint\n",
    "\n",
    "li=[['a','b','v'],[1.2,4,5],['s',['s1','s2',['s3','s4','s5']]]]\n",
    "\n",
    "pprint.pprint(li,width=20)"
   ]
  },
  {
   "cell_type": "code",
   "execution_count": 5,
   "metadata": {},
   "outputs": [
    {
     "name": "stdout",
     "output_type": "stream",
     "text": [
      "I am writing something, but I dont know\n",
      "what need to be writen, so... It just\n",
      "something random, and will be used to\n",
      "test textwrap library~!@#$\n"
     ]
    }
   ],
   "source": [
    "import textwrap\n",
    "\n",
    "str1='I am writing something, but I dont know what need to be writen, so... It just something random, and will be used to test textwrap library~!@#$'\n",
    "\n",
    "print(textwrap.fill(str1, width=40, fix_sentence_endings=True))"
   ]
  },
  {
   "cell_type": "markdown",
   "metadata": {},
   "source": [
    "Template"
   ]
  },
  {
   "cell_type": "code",
   "execution_count": 11,
   "metadata": {},
   "outputs": [
    {
     "data": {
      "text/plain": [
       "'Joe want to do something at  ${when}'"
      ]
     },
     "execution_count": 11,
     "metadata": {},
     "output_type": "execute_result"
    }
   ],
   "source": [
    "from string import Template\n",
    "import datetime\n",
    "\n",
    "t = Template('${who} want to do something at  ${when}')\n",
    "\n",
    "t.substitute(who='Joe', when=datetime.datetime.today().isoformat())\n",
    "t.safe_substitute(who='Joe')\n"
   ]
  }
 ],
 "metadata": {
  "kernelspec": {
   "display_name": "Python 3",
   "language": "python",
   "name": "python3"
  },
  "language_info": {
   "codemirror_mode": {
    "name": "ipython",
    "version": 3
   },
   "file_extension": ".py",
   "mimetype": "text/x-python",
   "name": "python",
   "nbconvert_exporter": "python",
   "pygments_lexer": "ipython3",
   "version": "3.12.3"
  }
 },
 "nbformat": 4,
 "nbformat_minor": 2
}
